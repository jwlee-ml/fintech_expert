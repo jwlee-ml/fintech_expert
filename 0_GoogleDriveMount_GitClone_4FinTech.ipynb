{
  "nbformat": 4,
  "nbformat_minor": 0,
  "metadata": {
    "colab": {
      "provenance": [],
      "collapsed_sections": []
    },
    "kernelspec": {
      "display_name": "Python 3",
      "language": "python",
      "name": "python3"
    },
    "language_info": {
      "codemirror_mode": {
        "name": "ipython",
        "version": 3
      },
      "file_extension": ".py",
      "mimetype": "text/x-python",
      "name": "python",
      "nbconvert_exporter": "python",
      "pygments_lexer": "ipython3",
      "version": "3.7.6"
    }
  },
  "cells": [
    {
      "cell_type": "code",
      "metadata": {
        "id": "UbQP7KK_IxAo"
      },
      "source": [
        "from google.colab import drive"
      ],
      "execution_count": 1,
      "outputs": []
    },
    {
      "cell_type": "markdown",
      "metadata": {
        "id": "Z7MnOj8rKE2T"
      },
      "source": [
        "아래 명령 실행 후 팝업창이 나오면 google drive 연결, google 계정 선택 후 모두 허용\n",
        "\n",
        "(아래 명령 실행 후, URL이 나오면 click한 후 나오는 authorization code를 아래 입력칸에 입력후 enter)"
      ]
    },
    {
      "cell_type": "code",
      "metadata": {
        "id": "7DN8w6wYI41f",
        "outputId": "91241457-52fa-48b2-cd4d-af0704ba604f",
        "colab": {
          "base_uri": "https://localhost:8080/"
        }
      },
      "source": [
        "import os\n",
        "if not os.path.exists('/content/drive'):\n",
        "    drive.mount('/content/drive')"
      ],
      "execution_count": 2,
      "outputs": [
        {
          "output_type": "stream",
          "name": "stdout",
          "text": [
            "Mounted at /content/drive\n"
          ]
        }
      ]
    },
    {
      "cell_type": "code",
      "metadata": {
        "id": "0a1whwb3JAcI",
        "outputId": "e77633dc-80a4-404c-8f47-5467cc47a338",
        "colab": {
          "base_uri": "https://localhost:8080/"
        }
      },
      "source": [
        "cd /content/drive/MyDrive"
      ],
      "execution_count": 3,
      "outputs": [
        {
          "output_type": "stream",
          "name": "stdout",
          "text": [
            "/content/drive/MyDrive\n"
          ]
        }
      ]
    },
    {
      "cell_type": "code",
      "metadata": {
        "id": "CZwTR2HsJfBM",
        "outputId": "867624b8-566f-40a0-9259-fb5bb31f9350",
        "colab": {
          "base_uri": "https://localhost:8080/"
        }
      },
      "source": [
        "if not os.path.exists('fintech_expert'):\n",
        "  !git clone https://github.com/jwlee-ml/fintech_expert.git"
      ],
      "execution_count": 4,
      "outputs": [
        {
          "output_type": "stream",
          "name": "stdout",
          "text": [
            "Cloning into 'fintech_expert'...\n",
            "remote: Enumerating objects: 12, done.\u001b[K\n",
            "remote: Counting objects: 100% (12/12), done.\u001b[K\n",
            "remote: Compressing objects: 100% (11/11), done.\u001b[K\n",
            "remote: Total 12 (delta 0), reused 0 (delta 0), pack-reused 0\u001b[K\n",
            "Unpacking objects: 100% (12/12), done.\n"
          ]
        }
      ]
    },
    {
      "cell_type": "code",
      "metadata": {
        "id": "lNQWglNEJ-63",
        "outputId": "0ba96c79-f69d-416b-e1e3-58876525d930",
        "colab": {
          "base_uri": "https://localhost:8080/"
        }
      },
      "source": [
        "cd fintech_expert"
      ],
      "execution_count": 5,
      "outputs": [
        {
          "output_type": "stream",
          "name": "stdout",
          "text": [
            "/content/drive/MyDrive/fintech_expert\n"
          ]
        }
      ]
    },
    {
      "cell_type": "code",
      "metadata": {
        "id": "9nFT8lxILagr",
        "outputId": "c0b4fa9a-ad1a-4a35-bb86-c1d60e9d85c1",
        "colab": {
          "base_uri": "https://localhost:8080/"
        }
      },
      "source": [
        "!git pull"
      ],
      "execution_count": 6,
      "outputs": [
        {
          "output_type": "stream",
          "name": "stdout",
          "text": [
            "Already up to date.\n"
          ]
        }
      ]
    },
    {
      "cell_type": "code",
      "metadata": {
        "id": "G-tjHptcOL8a"
      },
      "source": [],
      "execution_count": null,
      "outputs": []
    }
  ]
}